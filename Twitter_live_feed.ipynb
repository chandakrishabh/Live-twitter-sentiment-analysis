{
  "nbformat": 4,
  "nbformat_minor": 0,
  "metadata": {
    "kernelspec": {
      "display_name": "Python 3",
      "language": "python",
      "name": "python3"
    },
    "language_info": {
      "codemirror_mode": {
        "name": "ipython",
        "version": 3
      },
      "file_extension": ".py",
      "mimetype": "text/x-python",
      "name": "python",
      "nbconvert_exporter": "python",
      "pygments_lexer": "ipython3",
      "version": "3.7.3"
    },
    "colab": {
      "name": "Twitter live feed.ipynb",
      "provenance": [],
      "collapsed_sections": []
    }
  },
  "cells": [
    {
      "cell_type": "code",
      "metadata": {
        "id": "fgAAkQYd8-XX",
        "colab": {
          "base_uri": "https://localhost:8080/"
        },
        "outputId": "52b8ec41-d658-45da-ec0c-ea4ac04fe8ab"
      },
      "source": [
        "!pip install tweepy\n",
        "import tweepy\n",
        "import csv\n",
        "import ssl\n",
        "import time\n",
        "from requests.exceptions import Timeout, ConnectionError\n",
        "from requests.packages.urllib3.exceptions import ReadTimeoutError\n",
        "\n",
        "# code from:\n",
        "# https://monkeylearn.com/blog/sentiment-analysis-of-twitter/\n",
        "#     https://www.earthdatascience.org/courses/use-data-open-source-python/intro-to-apis/twitter-data-in-python/"
      ],
      "execution_count": null,
      "outputs": [
        {
          "output_type": "stream",
          "text": [
            "Requirement already satisfied: tweepy in /usr/local/lib/python3.7/dist-packages (3.10.0)\n",
            "Requirement already satisfied: requests[socks]>=2.11.1 in /usr/local/lib/python3.7/dist-packages (from tweepy) (2.23.0)\n",
            "Requirement already satisfied: six>=1.10.0 in /usr/local/lib/python3.7/dist-packages (from tweepy) (1.15.0)\n",
            "Requirement already satisfied: requests-oauthlib>=0.7.0 in /usr/local/lib/python3.7/dist-packages (from tweepy) (1.3.0)\n",
            "Requirement already satisfied: oauthlib>=3.0.0 in /usr/local/lib/python3.7/dist-packages (from requests-oauthlib>=0.7.0->tweepy) (3.1.1)\n",
            "Requirement already satisfied: certifi>=2017.4.17 in /usr/local/lib/python3.7/dist-packages (from requests[socks]>=2.11.1->tweepy) (2021.5.30)\n",
            "Requirement already satisfied: urllib3!=1.25.0,!=1.25.1,<1.26,>=1.21.1 in /usr/local/lib/python3.7/dist-packages (from requests[socks]>=2.11.1->tweepy) (1.24.3)\n",
            "Requirement already satisfied: idna<3,>=2.5 in /usr/local/lib/python3.7/dist-packages (from requests[socks]>=2.11.1->tweepy) (2.10)\n",
            "Requirement already satisfied: chardet<4,>=3.0.2 in /usr/local/lib/python3.7/dist-packages (from requests[socks]>=2.11.1->tweepy) (3.0.4)\n",
            "Requirement already satisfied: PySocks!=1.5.7,>=1.5.6 in /usr/local/lib/python3.7/dist-packages (from requests[socks]>=2.11.1->tweepy) (1.7.1)\n"
          ],
          "name": "stdout"
        }
      ]
    },
    {
      "cell_type": "code",
      "metadata": {
        "id": "jfeKS6gF8-Xc"
      },
      "source": [
        "# Add your Twitter API credentials\n",
        "<hidden keys>"
      ],
      "execution_count": null,
      "outputs": []
    },
    {
      "cell_type": "code",
      "metadata": {
        "id": "L8-VNbyj8-Xi",
        "colab": {
          "base_uri": "https://localhost:8080/",
          "height": 240
        },
        "outputId": "64e00aea-24af-40be-e8d4-60845b65e986"
      },
      "source": [
        "# Handling authentication with Twitter\n",
        "auth = tweepy.OAuthHandler(consumer_key, consumer_secret)\n",
        "auth.set_access_token(access_key, access_secret)\n",
        "\n",
        "# Create a wrapper for the API provided by Twitter\n",
        "api = tweepy.API(auth)\n",
        "\n",
        "# Setting up the keywords, hashtag or mentions we want to listen\n",
        "keywords = [\"Arvind\", \"Kejriwal\"]\n",
        "\n",
        "# Set the name for CSV file  where the tweets will be saved\n",
        "filename = \"tweets\"\n",
        "\n",
        "\n",
        "# We need to implement StreamListener to use Tweepy to listen to Twitter\n",
        "class StreamListener(tweepy.StreamListener):\n",
        "\n",
        "    def on_status(self, status):\n",
        "\n",
        "        try:\n",
        "            # saves the tweet object\n",
        "            tweet_object = status\n",
        "\n",
        "            # Checks if its a extended tweet (>140 characters)\n",
        "            if 'extended_tweet' in tweet_object._json:\n",
        "                tweet = tweet_object.extended_tweet['full_text']\n",
        "            else:\n",
        "                tweet = tweet_object.text\n",
        "\n",
        "            '''Convert all named and numeric character references\n",
        "            (e.g. &gt;, &#62;, &#x3e;) in the string s to the\n",
        "            corresponding Unicode characters'''\n",
        "            tweet = (tweet.replace('&amp;', '&').replace('&lt;', '<')\n",
        "                     .replace('&gt;', '>').replace('&quot;', '\"')\n",
        "                     .replace('&#39;', \"'\").replace(';', \" \")\n",
        "                     .replace(r'\\u', \" \"))\n",
        "\n",
        "            # Save the keyword that matches the stream\n",
        "            keyword_matches = []\n",
        "            for word in keywords:\n",
        "                if word.lower() in tweet.lower():\n",
        "                    keyword_matches.extend([word])\n",
        "\n",
        "            keywords_strings = \", \".join(str(x) for x in keyword_matches)\n",
        "\n",
        "            # Save other information from the tweet\n",
        "            user = status.author.screen_name\n",
        "            timeTweet = status.created_at\n",
        "            source = status.source\n",
        "            tweetId = status.id\n",
        "            tweetUrl = \"https://twitter.com/statuses/\" + str(tweetId)\n",
        "\n",
        "            # Exclude retweets, too many mentions and too many hashtags\n",
        "            if not any((('RT @' in tweet, 'RT' in tweet,\n",
        "                       tweet.count('@') >= 2, tweet.count('#') >= 3))):\n",
        "\n",
        "                # Saves the tweet information in a new row of the CSV file\n",
        "                writer.writerow([tweet, keywords_strings, timeTweet,\n",
        "                                user, source, tweetId, tweetUrl])\n",
        "\n",
        "        except Exception as e:\n",
        "            print('Encountered Exception:', e)\n",
        "            pass\n",
        "\n",
        "\n",
        "def work():\n",
        "\n",
        "    # Opening a CSV file to save the gathered tweets\n",
        "    with open(filename+\".csv\", 'w') as file:\n",
        "        global writer\n",
        "        writer = csv.writer(file)\n",
        "\n",
        "        # Add a header row to the CSV\n",
        "        writer.writerow([\"Tweet\", \"Matched Keywords\", \"Date\", \"User\",\n",
        "                        \"Source\", \"Tweet ID\", \"Tweet URL\"])\n",
        "\n",
        "        # Initializing the twitter streap Stream\n",
        "        try:\n",
        "            streamingAPI = tweepy.streaming.Stream(auth, StreamListener())\n",
        "            streamingAPI.filter(track=keywords)\n",
        "\n",
        "        # Stop temporarily when hitting Twitter rate Limit\n",
        "        except tweepy.RateLimitError:\n",
        "            print(\"RateLimitError...waiting ~15 minutes to continue\")\n",
        "            time.sleep(1001)\n",
        "            streamingAPI = tweepy.streaming.Stream(auth, StreamListener())\n",
        "            streamingAPI.filter(track=[keywords])\n",
        "\n",
        "        # Stop temporarily when getting a timeout or connection error\n",
        "        except (Timeout, ssl.SSLError, ReadTimeoutError,\n",
        "                ConnectionError) as exc:\n",
        "            print(\"Timeout/connection error...waiting ~15 minutes to continue\")\n",
        "            time.sleep(1001)\n",
        "            streamingAPI = tweepy.streaming.Stream(auth, StreamListener())\n",
        "            streamingAPI.filter(track=[keywords])\n",
        "\n",
        "        # Stop temporarily when getting other errors\n",
        "        except tweepy.TweepError as e:\n",
        "            if 'Failed to send request:' in e.reason:\n",
        "                print(\"Time out error caught.\")\n",
        "                time.sleep(1001)\n",
        "                streamingAPI = tweepy.streaming.Stream(auth, StreamListener())\n",
        "                streamingAPI.filter(track=[keywords])\n",
        "            else:\n",
        "                print(\"Other error with this user...passing\")\n",
        "                pass\n",
        "\n",
        "\n",
        "if __name__ == '__main__':\n",
        "\n",
        "    work()"
      ],
      "execution_count": null,
      "outputs": [
        {
          "output_type": "error",
          "ename": "NameError",
          "evalue": "ignored",
          "traceback": [
            "\u001b[0;31m---------------------------------------------------------------------------\u001b[0m",
            "\u001b[0;31mNameError\u001b[0m                                 Traceback (most recent call last)",
            "\u001b[0;32m<ipython-input-5-68cf899355c6>\u001b[0m in \u001b[0;36m<module>\u001b[0;34m()\u001b[0m\n\u001b[1;32m      1\u001b[0m \u001b[0;31m# Handling authentication with Twitter\u001b[0m\u001b[0;34m\u001b[0m\u001b[0;34m\u001b[0m\u001b[0;34m\u001b[0m\u001b[0m\n\u001b[0;32m----> 2\u001b[0;31m \u001b[0mauth\u001b[0m \u001b[0;34m=\u001b[0m \u001b[0mtweepy\u001b[0m\u001b[0;34m.\u001b[0m\u001b[0mOAuthHandler\u001b[0m\u001b[0;34m(\u001b[0m\u001b[0mconsumer_key\u001b[0m\u001b[0;34m,\u001b[0m \u001b[0mconsumer_secret\u001b[0m\u001b[0;34m)\u001b[0m\u001b[0;34m\u001b[0m\u001b[0;34m\u001b[0m\u001b[0m\n\u001b[0m\u001b[1;32m      3\u001b[0m \u001b[0mauth\u001b[0m\u001b[0;34m.\u001b[0m\u001b[0mset_access_token\u001b[0m\u001b[0;34m(\u001b[0m\u001b[0maccess_key\u001b[0m\u001b[0;34m,\u001b[0m \u001b[0maccess_secret\u001b[0m\u001b[0;34m)\u001b[0m\u001b[0;34m\u001b[0m\u001b[0;34m\u001b[0m\u001b[0m\n\u001b[1;32m      4\u001b[0m \u001b[0;34m\u001b[0m\u001b[0m\n\u001b[1;32m      5\u001b[0m \u001b[0;31m# Create a wrapper for the API provided by Twitter\u001b[0m\u001b[0;34m\u001b[0m\u001b[0;34m\u001b[0m\u001b[0;34m\u001b[0m\u001b[0m\n",
            "\u001b[0;31mNameError\u001b[0m: name 'tweepy' is not defined"
          ]
        }
      ]
    },
    {
      "cell_type": "code",
      "metadata": {
        "id": "3uIBlA7r9YAj"
      },
      "source": [
        "auth = tw.OAuthHandler(consumer_key, consumer_secret)\n",
        "auth.set_access_token(access_key, access_secret)\n",
        "\n",
        "# Create a wrapper for the API provided by Twitter\n",
        "api = tw.API(auth)\n",
        "\n",
        "# Setting up the keywords, hashtag or mentions we want to listen\n",
        "keywords = [\"Arvind\", \"Kejriwal\"]\n",
        "\n",
        "# Set the name for CSV file  where the tweets will be saved\n",
        "filename = \"tweets\"\n"
      ],
      "execution_count": null,
      "outputs": []
    },
    {
      "cell_type": "code",
      "metadata": {
        "id": "UHSKWmwN8-Xl",
        "colab": {
          "base_uri": "https://localhost:8080/"
        },
        "outputId": "1dd516bc-e226-4b00-bfb3-00f5c49690b7"
      },
      "source": [
        "search_words =\"karan \"+\" johar \"\n",
        "date_since = \"2010-05-28\"\n",
        "\n",
        "tweets = tw.Cursor(api.search,\n",
        "              q=search_words,\n",
        "              lang=\"en\",\n",
        "              since=date_since).items(50)\n",
        "[tweet.text for tweet in tweets]"
      ],
      "execution_count": null,
      "outputs": [
        {
          "output_type": "execute_result",
          "data": {
            "text/plain": [
              "[\"RT @SRKIANS4EVER: • Aditya Chopra's Biggest Hit\\n\\n• Karan Johar's Biggest Hit\\n\\n• Nikhil Adwani's Biggest Hit \\n\\n• Rohit Shetty's Biggest Hit…\",\n",
              " \"Biggest reality show of India and makers couldn't even manage to fix the poor @justvoot app.\\n\\nSara paisa Salman aur… https://t.co/zPmbrC9baG\",\n",
              " 'RT @being_battalion: \"I remember the impact that Salman had in KKHH.\" ~ Karan Johar.\\n\\nMegastar for a reason #SalmanKhan. 🤫 https://t.co/QTS…',\n",
              " 'RT @Itsss_Shivam: The way Karan johar said - vo toh bahut bade star the🔥,Even Srk said in an interview that Salman was a bigger star than h…',\n",
              " 'Karan johar has found his toodles partner in the house\\n#BiggBoss15\\n#BiggBossOTT\\n#Karanjohar',\n",
              " 'Choreographer @nishantbhat85 sets the stage on fire. Karan Johar reveals he was the one to give steps for popular s… https://t.co/OiF6Ou8AoR',\n",
              " 'RT @Itsss_Shivam: The way Karan johar said - vo toh bahut bade star the🔥,Even Srk said in an interview that Salman was a bigger star than h…',\n",
              " 'RT @Itsss_Shivam: The way Karan johar said - vo toh bahut bade star the🔥,Even Srk said in an interview that Salman was a bigger star than h…',\n",
              " '@BiggBoss No way till Karan Johar as host it will be bakwaas',\n",
              " 'Bharti in Bigboss show host by Karan Johar\\n\\nBharti- summoned by NCB in drug case\\nKaran Johar- report on his video y… https://t.co/id1G15E1ZX',\n",
              " 'RT @NeutralAudi: Karan Johar cannot host BB .Period \\n#BiggBossOTT',\n",
              " \"RT @SRKIANS4EVER: • Aditya Chopra's Biggest Hit\\n\\n• Karan Johar's Biggest Hit\\n\\n• Nikhil Adwani's Biggest Hit \\n\\n• Rohit Shetty's Biggest Hit…\",\n",
              " '@KeshavK14086196 @Lokeshk67004736 May be Karan Johar can organize a competition on his show who can spit the Gutka farthest?',\n",
              " 'Karan Johar aa rhi hai #bigboss me salman ke sath?. (Gaon wala Launda laundiya ka naach dekhne ko milega ) They kno… https://t.co/wF0MgZ8M3l',\n",
              " \"RT @juggernautbooks: Kareena Kapoor Khan is going to go live with Karan Johar on Instagram to launch her latest book! They'll be talking ab…\",\n",
              " \"Bigg Boss OTT: Karan Johar introduces first contestant Raqesh Bapat; calls him 'eligible' and 'sarvagun sampann' https://t.co/QA7zyc0AWP\",\n",
              " 'I will see Salman khan hosting not Karan johar only biggboss not biggbossott#BiggBossOTT',\n",
              " 'RT @Itsss_Shivam: The way Karan johar said - vo toh bahut bade star the🔥,Even Srk said in an interview that Salman was a bigger star than h…',\n",
              " 'RT @AamirLsc_: #KaranJohar is trending with this tag #8YearsOfATGChennaiExpress\\n\\nMeanwhile Karan Johar fans : https://t.co/Z9mDG5ORu1',\n",
              " 'We should not forget SSR hasn’t got justice as yet. So we should boycott Karan Johar’s show. \\nBoycott Bullywood Maf… https://t.co/RX1oEFwLOQ',\n",
              " \"@BiggBoss My eyes 👀 can't tolerate karan johar infornt of Bigg boss eyes 👁️\",\n",
              " \"RT @SRKIANS4EVER: • Aditya Chopra's Biggest Hit\\n\\n• Karan Johar's Biggest Hit\\n\\n• Nikhil Adwani's Biggest Hit \\n\\n• Rohit Shetty's Biggest Hit…\",\n",
              " 'RT @being_battalion: \"I remember the impact that Salman had in KKHH.\" ~ Karan Johar.\\n\\nMegastar for a reason #SalmanKhan. 🤫 https://t.co/QTS…',\n",
              " \"RT @SRKIANS4EVER: • Aditya Chopra's Biggest Hit\\n\\n• Karan Johar's Biggest Hit\\n\\n• Nikhil Adwani's Biggest Hit \\n\\n• Rohit Shetty's Biggest Hit…\",\n",
              " 'RT @streetgenius69: Enjoy watching bigg boss who likes it with karan johar on voot\\nIt will be masala treat for uh all\\n#BiggBossOTT',\n",
              " 'RT @streetgenius69: Enjoy watching bigg boss who likes it with karan johar on voot\\nIt will be masala treat for uh all\\n#BiggBossOTT',\n",
              " 'RT @Dinesh_the_star: Feeling awesome to see the Karan Johar in live show - Big Boss on Voot.\\n#BiggBossOTT https://t.co/z6gImRBcpN',\n",
              " 'RT @Itsss_Shivam: The way Karan johar said - vo toh bahut bade star the🔥,Even Srk said in an interview that Salman was a bigger star than h…',\n",
              " 'Bigg Boss OTT: Here’s when and where you can watch Karan Johar’s\\xa0show! https://t.co/9R5XL8W1Yh',\n",
              " 'RT @streetgenius69: Enjoy watching bigg boss who likes it with karan johar on voot\\nIt will be masala treat for uh all\\n#BiggBossOTT',\n",
              " 'RT @streetgenius69: Enjoy watching bigg boss who likes it with karan johar on voot\\nIt will be masala treat for uh all\\n#BiggBossOTT',\n",
              " \"RT @SRKIANS4EVER: • Aditya Chopra's Biggest Hit\\n\\n• Karan Johar's Biggest Hit\\n\\n• Nikhil Adwani's Biggest Hit \\n\\n• Rohit Shetty's Biggest Hit…\",\n",
              " 'RT @ASHREE_SHREEVAS: The popular reality show, Bigg Boss OTT, is all set with Karan Johar hosting the show  its live now...\\n#BiggBossOTT ht…',\n",
              " \"RT @SRKIANS4EVER: • Aditya Chopra's Biggest Hit\\n\\n• Karan Johar's Biggest Hit\\n\\n• Nikhil Adwani's Biggest Hit \\n\\n• Rohit Shetty's Biggest Hit…\",\n",
              " 'Police please keep you eye on this Big boss too the videos of Raj Kundra may be openly shown by the karan johar in OTT platform 😂😂😂😂',\n",
              " 'What is happening Big boss (OTT) in voot platform the theme of it is stay connected😂😂 Karan Johar is openly saying… https://t.co/8nfu75aT83',\n",
              " 'RT @Dinesh_the_star: Feeling awesome to see the Karan Johar in live show - Big Boss on Voot.\\n#BiggBossOTT https://t.co/z6gImRBcpN',\n",
              " \"RT @Nitesh52301037: Karan Johar is hosting Big boss OTT there is to much entertainment on the show. Don't miss the show \\n#BiggBossOTT\",\n",
              " 'RT @streetgenius69: Enjoy watching bigg boss who likes it with karan johar on voot\\nIt will be masala treat for uh all\\n#BiggBossOTT',\n",
              " 'RT @streetgenius69: Enjoy watching bigg boss who likes it with karan johar on voot\\nIt will be masala treat for uh all\\n#BiggBossOTT',\n",
              " \"RT @SRKIANS4EVER: • Aditya Chopra's Biggest Hit\\n\\n• Karan Johar's Biggest Hit\\n\\n• Nikhil Adwani's Biggest Hit \\n\\n• Rohit Shetty's Biggest Hit…\",\n",
              " 'RT @streetgenius69: Enjoy watching bigg boss who likes it with karan johar on voot\\nIt will be masala treat for uh all\\n#BiggBossOTT',\n",
              " 'RT @Dinesh_the_star: I am enjoying my favourite show - Big Boss live on Voot.\\n\\nFeeling fantastic to see the Karan Johar as a Host this year…',\n",
              " 'RT @Dinesh_the_star: Bigg Boss is now coming with a twist this year with Karan Johar as host.\\nBiggBoss OTT On Voot',\n",
              " \"RT @Dinesh_the_star: I am always very much excited for the upcoming shows by Karan Johar.\\n\\nNow, I'm very happy and excited to watch Karan a…\",\n",
              " 'Contestants participating in this season are lucky tbh because Karan Johar is hosting. Future mai balle balle hai 🔥\\n\\n#BBOTT',\n",
              " \"• Aditya Chopra's Biggest Hit\\n\\n• Karan Johar's Biggest Hit\\n\\n• Nikhil Adwani's Biggest Hit \\n\\n• Rohit Shetty's Bigges… https://t.co/rh5uyVkNf5\",\n",
              " 'Enjoy watching bigg boss who likes it with karan johar on voot\\nIt will be masala treat for uh all\\n#BiggBossOTT',\n",
              " 'RT @Dinesh_the_star: This is really a amazing experience the watch the Big Boss on Voot and happy to see Karan Johar as a Host this time.\\n#…',\n",
              " 'RT @Dinesh_the_star: Watching Bigg Boss on Voot.\\n\\nThis time, Karan Johar as a Host gives an amazing experience to watch the show.\\n#KaranJoh…']"
            ]
          },
          "metadata": {
            "tags": []
          },
          "execution_count": 7
        }
      ]
    },
    {
      "cell_type": "code",
      "metadata": {
        "id": "un8S4VlP8-Xo"
      },
      "source": [
        "new_search = search_words + \" -filter:retweets\"\n",
        "tweets = tw.Cursor(api.search, \n",
        "                           q=new_search,\n",
        "                           lang=\"en\",\n",
        "                           since=date_since).items(500)\n",
        "\n",
        "# users_locs = [[tweet.user.screen_name, tweet.user.location] for tweet in tweets]\n",
        "# users_locs\n",
        "[tweet.text for tweet in tweets]"
      ],
      "execution_count": null,
      "outputs": []
    },
    {
      "cell_type": "code",
      "metadata": {
        "id": "mza4_bn48-Xr"
      },
      "source": [
        ""
      ],
      "execution_count": null,
      "outputs": []
    }
  ]
}