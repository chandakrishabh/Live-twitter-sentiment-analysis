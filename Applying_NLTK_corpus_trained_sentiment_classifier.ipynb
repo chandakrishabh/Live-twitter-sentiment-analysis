{
  "nbformat": 4,
  "nbformat_minor": 0,
  "metadata": {
    "colab": {
      "name": "Applying NLTK corpus trained sentiment classifier.ipynb",
      "provenance": [],
      "collapsed_sections": [],
      "toc_visible": true
    },
    "kernelspec": {
      "name": "python3",
      "display_name": "Python 3"
    }
  },
  "cells": [
    {
      "cell_type": "markdown",
      "metadata": {
        "id": "mcKnzlYWUQEJ"
      },
      "source": [
        "## This script will train a naivebayes classifier using NLTK twitter corpus\n",
        "\n"
      ]
    },
    {
      "cell_type": "code",
      "metadata": {
        "id": "sJnoFFAsWrwo",
        "colab": {
          "base_uri": "https://localhost:8080/"
        },
        "outputId": "956ac3ab-afaa-4998-e6d7-5411a9f1ef0c"
      },
      "source": [
        "import nltk\n",
        "import pandas as pd\n",
        "nltk.download('twitter_samples')\n",
        "nltk.download('stopwords')\n",
        "nltk.download('punkt')\n",
        "nltk.download('wordnet')\n",
        "nltk.download('averaged_perceptron_tagger')\n",
        "from nltk.corpus import twitter_samples\n",
        "import ssl\n",
        "\n",
        "try:\n",
        "    _create_unverified_https_context = ssl._create_unverified_context\n",
        "except AttributeError:\n",
        "    pass\n",
        "else:\n",
        "    ssl._create_default_https_context = _create_unverified_https_context\n",
        "\n",
        "from nltk.stem.wordnet import WordNetLemmatizer\n",
        "from nltk.corpus import twitter_samples, stopwords\n",
        "from nltk.tag import pos_tag\n",
        "from nltk.tokenize import word_tokenize\n",
        "from nltk import FreqDist, classify, NaiveBayesClassifier\n",
        "\n",
        "import re, string, random"
      ],
      "execution_count": null,
      "outputs": [
        {
          "output_type": "stream",
          "text": [
            "[nltk_data] Downloading package twitter_samples to /root/nltk_data...\n",
            "[nltk_data]   Unzipping corpora/twitter_samples.zip.\n",
            "[nltk_data] Downloading package stopwords to /root/nltk_data...\n",
            "[nltk_data]   Unzipping corpora/stopwords.zip.\n",
            "[nltk_data] Downloading package punkt to /root/nltk_data...\n",
            "[nltk_data]   Unzipping tokenizers/punkt.zip.\n",
            "[nltk_data] Downloading package wordnet to /root/nltk_data...\n",
            "[nltk_data]   Unzipping corpora/wordnet.zip.\n",
            "[nltk_data] Downloading package averaged_perceptron_tagger to\n",
            "[nltk_data]     /root/nltk_data...\n",
            "[nltk_data]   Unzipping taggers/averaged_perceptron_tagger.zip.\n"
          ],
          "name": "stdout"
        }
      ]
    },
    {
      "cell_type": "code",
      "metadata": {
        "id": "Dk1EqnjhUB6G"
      },
      "source": [
        "\n",
        "def remove_noise(tweet_tokens, stop_words = ()):\n",
        "\n",
        "    cleaned_tokens = []\n",
        "\n",
        "    for token, tag in pos_tag(tweet_tokens):\n",
        "        token = re.sub('http[s]?://(?:[a-zA-Z]|[0-9]|[$-_@.&+#]|[!*\\(\\),]|'\\\n",
        "                       '(?:%[0-9a-fA-F][0-9a-fA-F]))+','', token)\n",
        "        token = re.sub(\"(@[A-Za-z0-9_]+)\",\"\", token)\n",
        "\n",
        "        if tag.startswith(\"NN\"):\n",
        "            pos = 'n'\n",
        "        elif tag.startswith('VB'):\n",
        "            pos = 'v'\n",
        "        else:\n",
        "            pos = 'a'\n",
        "\n",
        "        lemmatizer = WordNetLemmatizer()\n",
        "        token = lemmatizer.lemmatize(token, pos)\n",
        "\n",
        "        if len(token) > 0 and token not in string.punctuation and token.lower() not in stop_words:\n",
        "            cleaned_tokens.append(token.lower())\n",
        "    return cleaned_tokens\n",
        "\n",
        "def get_all_words(cleaned_tokens_list):\n",
        "    for tokens in cleaned_tokens_list:\n",
        "        for token in tokens:\n",
        "            yield token\n",
        "\n",
        "def get_tweets_for_model(cleaned_tokens_list):\n",
        "    for tweet_tokens in cleaned_tokens_list:\n",
        "        yield dict([token, True] for token in tweet_tokens)\n",
        "\n",
        "if __name__ == \"__main__\":\n",
        "\n",
        "    positive_tweets = twitter_samples.strings('positive_tweets.json')\n",
        "    negative_tweets = twitter_samples.strings('negative_tweets.json')\n",
        "    text = twitter_samples.strings('tweets.20150430-223406.json')\n",
        "    tweet_tokens = twitter_samples.tokenized('positive_tweets.json')[0]\n",
        "\n",
        "    stop_words = stopwords.words('english')\n",
        "\n",
        "    positive_tweet_tokens = twitter_samples.tokenized('positive_tweets.json')\n",
        "    negative_tweet_tokens = twitter_samples.tokenized('negative_tweets.json')\n",
        "\n",
        "    positive_cleaned_tokens_list = []\n",
        "    negative_cleaned_tokens_list = []\n",
        "\n",
        "    for tokens in positive_tweet_tokens:\n",
        "        positive_cleaned_tokens_list.append(remove_noise(tokens, stop_words))\n",
        "\n",
        "    for tokens in negative_tweet_tokens:\n",
        "        negative_cleaned_tokens_list.append(remove_noise(tokens, stop_words))\n",
        "\n",
        "    # all_pos_words = get_all_words(positive_cleaned_tokens_list)\n",
        "    # freq_dist_pos = FreqDist(all_pos_words)\n",
        "    # print(freq_dist_pos.most_common(10))\n",
        "\n",
        "    positive_tokens_for_model = get_tweets_for_model(positive_cleaned_tokens_list)\n",
        "    negative_tokens_for_model = get_tweets_for_model(negative_cleaned_tokens_list)\n",
        "\n",
        "    positive_dataset = [(tweet_dict, \"Positive\")\n",
        "                         for tweet_dict in positive_tokens_for_model]\n",
        "\n",
        "    negative_dataset = [(tweet_dict, \"Negative\")\n",
        "                         for tweet_dict in negative_tokens_for_model]\n",
        "\n",
        "    dataset = positive_dataset + negative_dataset\n",
        "\n",
        "    random.shuffle(dataset)\n",
        "\n",
        "    train_data = dataset[:7000]\n",
        "    test_data = dataset[7000:]\n",
        "\n",
        "    classifier = NaiveBayesClassifier.train(train_data)\n",
        "\n",
        "    # print(\"Accuracy is:\", classify.accuracy(classifier, test_data))\n",
        "\n",
        "    # print(classifier.show_most_informative_features(10))\n",
        "\n",
        "    # custom_tweet = \"I ordered just once from TerribleCo, they screwed up, never used the app again.\"\n",
        "\n",
        "    # custom_tokens = remove_noise(word_tokenize(custom_tweet))\n",
        "\n",
        "    # print(custom_tweet, classifier.classify(dict([token, True] for token in custom_tokens)))\n",
        "\n"
      ],
      "execution_count": null,
      "outputs": []
    },
    {
      "cell_type": "markdown",
      "metadata": {
        "id": "RQ4b9wk4Vl8l"
      },
      "source": [
        "## Use trained classifier to predict"
      ]
    },
    {
      "cell_type": "markdown",
      "metadata": {
        "id": "UgLg0-0aaxkK"
      },
      "source": [
        "Sample use "
      ]
    },
    {
      "cell_type": "code",
      "metadata": {
        "id": "hqS-ctoWVpsM",
        "colab": {
          "base_uri": "https://localhost:8080/",
          "height": 35
        },
        "outputId": "f29dde13-3950-4a7f-8413-53e3b574d156"
      },
      "source": [
        "custom_tweet = \"I ordered just once from TerribleCo, they screwed up, never used the app again.\"\n",
        "custom_tokens = remove_noise(word_tokenize(custom_tweet))\n",
        "print(custom_tweet, classifier.classify(dict([token, True] for token in custom_tokens)))\n",
        "\n"
      ],
      "execution_count": null,
      "outputs": [
        {
          "output_type": "stream",
          "text": [
            "I ordered just once from TerribleCo, they screwed up, never used the app again. Negative\n"
          ],
          "name": "stdout"
        }
      ]
    },
    {
      "cell_type": "markdown",
      "metadata": {
        "id": "hwPe1A3Wazey"
      },
      "source": [
        "Apply to scraped tweets from file"
      ]
    },
    {
      "cell_type": "code",
      "metadata": {
        "id": "9vtRCGx8Vvb5"
      },
      "source": [
        "fpath = \"/content/drive/My Drive/Twitter analysis/\"\n",
        "filename = fpath+\"tweets\"\n",
        "df = pd.read_csv(filename+\".csv\")\n",
        "df.head()\n",
        "df['Sentiment'] = df['Date'] #create a dummy list \n",
        "for index, row in df.iterrows():\n",
        "  tweet = row['Tweet']\n",
        "  custom_tokens = remove_noise(word_tokenize(tweet))\n",
        "  # df.Sentiment[index] = classifier.classify(dict([token, True] for token in custom_tokens))\n",
        "  df.at[index,'Sentiment'] = classifier.classify(dict([token, True] for token in custom_tokens))\n",
        "\n",
        "result = df['Sentiment'].value_counts()"
      ],
      "execution_count": null,
      "outputs": []
    },
    {
      "cell_type": "code",
      "metadata": {
        "id": "bSOAgD1NWc4j",
        "colab": {
          "base_uri": "https://localhost:8080/"
        },
        "outputId": "b0ad474c-4b73-4757-fe6a-f4399fc9fe07"
      },
      "source": [
        "pos = result['Positive']\n",
        "neg = result['Negative']\n",
        "total = pos+neg\n",
        "pperc = pos/total*100\n",
        "nperc = neg/total*100\n",
        "\n",
        "print('List of keywords:',df['Matched Keywords'].value_counts().index.tolist() )\n",
        "print(\"Found {:.2f}% positive tweets out of a total of {} tweets.\".format(pperc,total))\n",
        "\n"
      ],
      "execution_count": null,
      "outputs": [
        {
          "output_type": "stream",
          "text": [
            "List of keywords: ['Olympics']\n",
            "Found 55.88% positive tweets out of a total of 68 tweets.\n"
          ],
          "name": "stdout"
        }
      ]
    },
    {
      "cell_type": "code",
      "metadata": {
        "id": "V3yVocOSYEON"
      },
      "source": [
        ""
      ],
      "execution_count": null,
      "outputs": []
    }
  ]
}